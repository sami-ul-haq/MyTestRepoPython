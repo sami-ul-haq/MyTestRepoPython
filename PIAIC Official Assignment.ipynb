{
 "cells": [
  {
   "cell_type": "markdown",
   "metadata": {},
   "source": [
    "# PIAIC Official Assignment\n",
    "# Full Name         :           SAMI UL HAQ \n",
    "# PIAIC Roll No   :           AIC010985\n",
    "# Teacher Name  :           Sir Nasir Hussain\n",
    "# Institute Name  :          Saylani Welfare Gulshan Campus\n",
    "# Timing               :          Saturday - 12:15 PM to 3:15 PM"
   ]
  },
  {
   "cell_type": "markdown",
   "metadata": {},
   "source": [
    "# 1. Calculate Area of a Circle\n",
    "Write a Python program which accepts the radius of a circle from the user and compute the area.¶\n",
    "Program Console Sample Output 1:\n",
    "Input Radius: 0.5\n",
    "Area of Circle with radius 0.5 is 0.7853981634"
   ]
  },
  {
   "cell_type": "code",
   "execution_count": 3,
   "metadata": {},
   "outputs": [
    {
     "name": "stdout",
     "output_type": "stream",
     "text": [
      "Enter The Radius Of Circle: 0.5\n",
      "Area Of Circle With Radius 0.5 is 0.785\n"
     ]
    }
   ],
   "source": [
    "pi = 3.14\n",
    "r = float(input(\"Enter The Radius Of Circle: \"))\n",
    "Area = pi*(r**2)\n",
    "print(f\"Area Of Circle With Radius {r} is {Area}\")"
   ]
  },
  {
   "cell_type": "markdown",
   "metadata": {},
   "source": [
    "# 2. Check Number either positive, negative or zero\n",
    "Write a Python program to check if a number is positive, negative or zero\n",
    "Program Console Sample Output 1:\n",
    "Enter Number: -1\n",
    "Negative Number Entered\n",
    "Program Console Sample Output 2:\n",
    "Integer: 3\n",
    "Positive Number Entered\n",
    "Program Console Sample Output 3:\n",
    "Integer: 0\n",
    "Zero Entered"
   ]
  },
  {
   "cell_type": "code",
   "execution_count": 5,
   "metadata": {},
   "outputs": [
    {
     "name": "stdout",
     "output_type": "stream",
     "text": [
      "Enter Any Number: -1\n",
      "Your Number is Negative\n"
     ]
    }
   ],
   "source": [
    "num = int(input(\"Enter Any Number: \"))\n",
    "if num>0:\n",
    "    print(\"Your Number is Positive\")\n",
    "elif num<0:\n",
    "    print(\"Your Number is Negative\")\n",
    "else:\n",
    "    print(\"Zero is Entered\")\n"
   ]
  },
  {
   "cell_type": "markdown",
   "metadata": {},
   "source": [
    "# 3. Divisibility Check of two numbers\n",
    "Write a Python program to check whether a number is completely divisible by another number. Accept two integer values form the user\n",
    "Program Console Sample Output 1:\n",
    "Enter numerator: 4\n",
    "Enter Denominator: 2\n",
    "Number 4 is Completely divisible by 2\n",
    "Program Console Sample Output 2:\n",
    "Enter numerator: 7\n",
    "Enter Denominator: 4\n",
    "Number 7 is not Completely divisible by 4"
   ]
  },
  {
   "cell_type": "code",
   "execution_count": 6,
   "metadata": {},
   "outputs": [
    {
     "name": "stdout",
     "output_type": "stream",
     "text": [
      "Enter Numerator: 4\n",
      "Enter Denominator: 2\n",
      "Your Number 4 is completely divisible by 2\n"
     ]
    }
   ],
   "source": [
    "Numerator = int(input(\"Enter Numerator: \"))\n",
    "Denominator = int(input(\"Enter Denominator: \"))\n",
    "result = Numerator%Denominator\n",
    "if result==0:\n",
    "    print(f\"Your Number {Numerator} is completely divisible by {Denominator}\")\n",
    "else:\n",
    "    print(f\"Your Number {Numerator} is not completely divisible by {Denominator}\")"
   ]
  },
  {
   "cell_type": "markdown",
   "metadata": {},
   "source": [
    "# 4. Calculate Volume of a sphere\n",
    "Write a Python program to get the volume of a sphere, please take the radius as input from user\n",
    "Program Console Output:\n",
    "Enter Radius of Sphere: 1\n",
    "Volume of the Sphere with Radius 1 is 4.18"
   ]
  },
  {
   "cell_type": "code",
   "execution_count": 7,
   "metadata": {},
   "outputs": [
    {
     "name": "stdout",
     "output_type": "stream",
     "text": [
      "Enter Radius of Sphere: 1\n",
      "Volume of sphere with Radius 1.0 is 4.1866666666666665\n"
     ]
    }
   ],
   "source": [
    "pi = 3.14\n",
    "radius = float(input(\"Enter Radius of Sphere: \"))\n",
    "volume = 4/3*pi*(radius**3)\n",
    "print(f\"Volume of sphere with Radius {radius} is {volume}\")"
   ]
  },
  {
   "cell_type": "markdown",
   "metadata": {},
   "source": [
    "# 5. Copy string n times\n",
    "Write a Python program to get a string which is n (non-negative integer) copies of a given string.\n",
    "Program Console Output:\n",
    "Enter String: Hi\n",
    "How many copies of String you need: 4\n",
    "4 Copies of Hi are HiHiHiHi"
   ]
  },
  {
   "cell_type": "code",
   "execution_count": 9,
   "metadata": {},
   "outputs": [
    {
     "name": "stdout",
     "output_type": "stream",
     "text": [
      "Enter Any String: HI\n",
      "How Many Copies Of String Do You Want? 4\n",
      "4 copies of HI are HIHIHIHI\n"
     ]
    }
   ],
   "source": [
    "string = input(\"Enter Any String: \")\n",
    "num = int(input(\"How Many Copies Of String Do You Want? \"))\n",
    "print(f\"{num} copies of {string} are\",string*num)\n"
   ]
  },
  {
   "cell_type": "markdown",
   "metadata": {},
   "source": [
    "# 6. Check if number is Even or Odd\n",
    "Write a Python program to find whether a given number (accept from the user) is even or odd, print out an appropriate message to the user\n",
    "Program Console Output 1:\n",
    "Enter Number: 4\n",
    "4 is Even\n",
    "Program Console Output 2:\n",
    "Enter Number: 9\n",
    "9 is Odd"
   ]
  },
  {
   "cell_type": "code",
   "execution_count": 11,
   "metadata": {},
   "outputs": [
    {
     "name": "stdout",
     "output_type": "stream",
     "text": [
      "Enter Your Number: 4\n",
      "4 Is Even\n"
     ]
    }
   ],
   "source": [
    "num = int(input(\"Enter Your Number: \"))\n",
    "if num%2 ==0:\n",
    "    print(num,\"Is Even\")\n",
    "else:\n",
    "    print(num,\"is Odd\")"
   ]
  },
  {
   "cell_type": "markdown",
   "metadata": {},
   "source": [
    "# 7. Vowel Tester\n",
    "Write a Python program to test whether a passed letter is a vowel or not\n",
    "Program Console Output 1:\n",
    "Enter a character: A\n",
    "Letter A is Vowel\n",
    "Program Console Output 2:\n",
    "Enter a character: e\n",
    "Letter e is Vowel\n",
    "Program Console Output 2:\n",
    "Enter a character: N\n",
    "Letter N is not Vowel"
   ]
  },
  {
   "cell_type": "code",
   "execution_count": 12,
   "metadata": {},
   "outputs": [
    {
     "name": "stdout",
     "output_type": "stream",
     "text": [
      "Enter Any Character: A\n",
      "Letter a is vowel\n"
     ]
    }
   ],
   "source": [
    "vowel = ['a','e','i','o','u']\n",
    "string = input(\"Enter Any Character: \").lower()\n",
    "if vowel.count(string):\n",
    "    print(f\"Letter {string} is vowel\")\n",
    "else:\n",
    "    print(f\"Letter {string} is not a vowel\")"
   ]
  },
  {
   "cell_type": "markdown",
   "metadata": {},
   "source": [
    "# 8. Triangle area\n",
    "Write a Python program that will accept the base and height of a triangle and compute the area¶"
   ]
  },
  {
   "cell_type": "code",
   "execution_count": 13,
   "metadata": {},
   "outputs": [
    {
     "name": "stdout",
     "output_type": "stream",
     "text": [
      "Enter the value of Base: 2\n",
      "Enter the value of Height: 4\n",
      "Area of Triangle is 4.0 with Base 2 and Height 4\n"
     ]
    }
   ],
   "source": [
    "base = int(input(\"Enter the value of Base: \"))\n",
    "height = int(input(\"Enter the value of Height: \"))\n",
    "Area = (base*height)/2\n",
    "print(f\"Area of Triangle is {Area} with Base {base} and Height {height}\")"
   ]
  },
  {
   "cell_type": "markdown",
   "metadata": {},
   "source": [
    "# 9. Calculate Interest\n",
    "Write a Python program to compute the future value of a specified principal amount, rate of interest, and a number of years\n",
    "Program Console Sample 1:\n",
    "Please enter principal amount: 10000\n",
    "Please Enter Rate of interest in %: 0.1\n",
    "Enter number of years for investment: 5\n",
    "After 5 years your principal amount 10000 over an interest rate of 0.1 % will be 16105.1"
   ]
  },
  {
   "cell_type": "code",
   "execution_count": 24,
   "metadata": {},
   "outputs": [
    {
     "name": "stdout",
     "output_type": "stream",
     "text": [
      "Enter Your Principal Amount: 10000\n",
      "Enter Years Of Investments: 5\n",
      "Enter Interest Rate In %: 0.1\n",
      "After 5.0 Years Your Amount 10000.0 Over An Interest Rate Of 0.1% Will Be 16105.1\n"
     ]
    }
   ],
   "source": [
    "Amount = float(input(\"Enter Your Principal Amount: \"))\n",
    "Years = float(input(\"Enter Years Of Investments: \"))\n",
    "Interest = float(input(\"Enter Interest Rate In %: \"))\n",
    "Final = Amount*((1+Interest) ** Years)\n",
    "print (f\"After {Years} Years Your Amount {Amount} Over An Interest Rate Of {Interest}% Will Be {round(Final,2)}\")\n"
   ]
  },
  {
   "cell_type": "markdown",
   "metadata": {},
   "source": [
    "# 10. Euclidean distance\n",
    "write a Python program to compute the distance between the points (x1, y1) and (x2, y2).\n",
    "Program Console Sample 1:\n",
    "Enter Co-ordinate for x1: 2\n",
    "Enter Co-ordinate for x2: 4\n",
    "Enter Co-ordinate for y1: 4\n",
    "Enter Co-ordinate for y2: 4\n",
    "Distance between points (2, 4) and (4, 4) is 2"
   ]
  },
  {
   "cell_type": "code",
   "execution_count": 14,
   "metadata": {},
   "outputs": [
    {
     "name": "stdout",
     "output_type": "stream",
     "text": [
      "Enter Co-ordinate for x1 : 2\n",
      "Enter Co-ordinate for x2 : 4\n",
      "Enter Co-ordinate for y1 : 4\n",
      "Enter Co-ordinate for y2 : 4\n",
      "The distance between(2,4) and (4,4) is 2.0\n"
     ]
    }
   ],
   "source": [
    "x1 = int(input(\"Enter Co-ordinate for x1 : \"))\n",
    "x2 = int(input(\"Enter Co-ordinate for x2 : \"))\n",
    "y1 = int(input(\"Enter Co-ordinate for y1 : \"))\n",
    "y2 = int(input(\"Enter Co-ordinate for y2 : \"))\n",
    "x = (x2-x1)**2\n",
    "y = (y2-y1)**2\n",
    "result = (x+y)**1/2\n",
    "print(f\"The distance between({x1},{y1}) and ({x2},{y2}) is {result}\")"
   ]
  },
  {
   "cell_type": "markdown",
   "metadata": {},
   "source": [
    "# 11. Feet to Centimeter Converter\n",
    "Write a Python program to convert height in feet to centimetres.\n",
    "Program Console Sample 1:\n",
    "Enter Height in Feet: 5\n",
    "There are 152.4 Cm in 5 ft"
   ]
  },
  {
   "cell_type": "code",
   "execution_count": 15,
   "metadata": {},
   "outputs": [
    {
     "name": "stdout",
     "output_type": "stream",
     "text": [
      "Enter Height in Feet : 5\n",
      "There are 152.4 cm in 5.0 ft\n"
     ]
    }
   ],
   "source": [
    "height = float(input(\"Enter Height in Feet : \"))\n",
    "result = height*30.48\n",
    "print(f\"There are {result} cm in {height} ft\")"
   ]
  },
  {
   "cell_type": "markdown",
   "metadata": {},
   "source": [
    "# 12. BMI Calculator\n",
    "Write a Python program to calculate body mass index\n",
    "Program Console Sample 1:\n",
    "Enter Height in Cm: 180\n",
    "Enter Weight in Kg: 75\n",
    "Your BMI is 23.15"
   ]
  },
  {
   "cell_type": "code",
   "execution_count": 20,
   "metadata": {},
   "outputs": [
    {
     "name": "stdout",
     "output_type": "stream",
     "text": [
      "Enter Your Height In cm: 180\n",
      "Enter Your Weight In Kg: 75\n",
      "Your BMI Is : 23.148148148148145\n"
     ]
    }
   ],
   "source": [
    "heightcm = int(input(\"Enter Your Height In cm: \"))\n",
    "weight = int(input(\"Enter Your Weight In Kg: \"))\n",
    "heightm = heightcm/100\n",
    "BMI = weight/heightm**2\n",
    "print(\"Your BMI Is :\", BMI)"
   ]
  },
  {
   "cell_type": "markdown",
   "metadata": {},
   "source": [
    "# 13. Sum of n Positive Integers\n",
    "Write a python program to sum of the first n positive integers\n",
    "Program Console Sample 1:\n",
    "Enter value of n: 5\n",
    "Sum of n Positive integers till 5 is 15\n"
   ]
  },
  {
   "cell_type": "code",
   "execution_count": 21,
   "metadata": {},
   "outputs": [
    {
     "name": "stdout",
     "output_type": "stream",
     "text": [
      "Enter value of n : 5\n",
      "Sum of n Positive integers till 5 is 15.0\n"
     ]
    }
   ],
   "source": [
    "n = int(input(\"Enter value of n : \"))\n",
    "sum_num = (n * (n + 1)) / 2\n",
    "print(f\"Sum of n Positive integers till {n} is {sum_num}\")"
   ]
  },
  {
   "cell_type": "markdown",
   "metadata": {},
   "source": [
    "# 14. Digits Sum of a Number\n",
    "Write a Python program to calculate the sum of the digits in an integer\n",
    "Program Console Sample 1:\n",
    "Enter a number: 15\n",
    "Sum of 1 + 5 is 6\n",
    "Program Console Sample 2:\n",
    "Enter a number: 1234\n",
    "Sum of 1 + 2 + 3 + 4 is 10¶"
   ]
  },
  {
   "cell_type": "code",
   "execution_count": 22,
   "metadata": {},
   "outputs": [
    {
     "name": "stdout",
     "output_type": "stream",
     "text": [
      "Enter A Number: 1234\n",
      "10\n"
     ]
    }
   ],
   "source": [
    "number = input(\"Enter A Number: \")\n",
    "total = 0\n",
    "i = 0\n",
    "while i <len(number):\n",
    "    total += int(number[i])\n",
    "    i += 1\n",
    "print(total)"
   ]
  },
  {
   "cell_type": "markdown",
   "metadata": {},
   "source": [
    "# Ends Here"
   ]
  }
 ],
 "metadata": {
  "kernelspec": {
   "display_name": "Python 3",
   "language": "python",
   "name": "python3"
  },
  "language_info": {
   "codemirror_mode": {
    "name": "ipython",
    "version": 3
   },
   "file_extension": ".py",
   "mimetype": "text/x-python",
   "name": "python",
   "nbconvert_exporter": "python",
   "pygments_lexer": "ipython3",
   "version": "3.7.3"
  }
 },
 "nbformat": 4,
 "nbformat_minor": 2
}
