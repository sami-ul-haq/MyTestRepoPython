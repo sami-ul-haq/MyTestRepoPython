{
 "cells": [
  {
   "cell_type": "code",
   "execution_count": 1,
   "metadata": {},
   "outputs": [
    {
     "name": "stdout",
     "output_type": "stream",
     "text": [
      "Sami ul Haq\n"
     ]
    }
   ],
   "source": [
    "print(\"Sami ul Haq\")"
   ]
  },
  {
   "cell_type": "markdown",
   "metadata": {},
   "source": [
    "# Testing"
   ]
  },
  {
   "cell_type": "code",
   "execution_count": 6,
   "metadata": {},
   "outputs": [
    {
     "name": "stdout",
     "output_type": "stream",
     "text": [
      "a chota hai\n",
      "\n",
      "\n",
      "\n",
      "b id grester then a\n"
     ]
    }
   ],
   "source": [
    "a=10\n",
    "b=20\n",
    "if a<b:\n",
    "    print(\"a chota hai\")\n",
    "    print()\n",
    "    print()\n",
    "    print()\n",
    "if b>a:\n",
    "    print(\"b id grester then a\")"
   ]
  },
  {
   "cell_type": "code",
   "execution_count": 15,
   "metadata": {},
   "outputs": [
    {
     "name": "stdout",
     "output_type": "stream",
     "text": [
      " enter a number 23\n",
      " your number is odd \n"
     ]
    }
   ],
   "source": [
    "num = int( input(\" enter a number \"))\n",
    "if num%2 ==0:\n",
    "    print(\" your number is even \")\n",
    "if num%2 != 0:\n",
    "    print(\" your number is odd \")\n",
    "    "
   ]
  },
  {
   "cell_type": "code",
   "execution_count": 1,
   "metadata": {},
   "outputs": [
    {
     "name": "stdout",
     "output_type": "stream",
     "text": [
      "My Name Is Sami\n"
     ]
    }
   ],
   "source": [
    "print(\"My Name Is Sami\")"
   ]
  },
  {
   "cell_type": "code",
   "execution_count": 2,
   "metadata": {},
   "outputs": [
    {
     "name": "stdout",
     "output_type": "stream",
     "text": [
      "Print A \n",
      " Print B\n"
     ]
    }
   ],
   "source": [
    "print(\"Print A \\n Print B\")"
   ]
  },
  {
   "cell_type": "code",
   "execution_count": 3,
   "metadata": {},
   "outputs": [
    {
     "name": "stdout",
     "output_type": "stream",
     "text": [
      "My Name IS \"Sami ul Haq\"\n"
     ]
    }
   ],
   "source": [
    "print(\"My Name IS \\\"Sami ul Haq\\\"\")"
   ]
  },
  {
   "cell_type": "code",
   "execution_count": 4,
   "metadata": {},
   "outputs": [
    {
     "name": "stdout",
     "output_type": "stream",
     "text": [
      "i'm Sami\n"
     ]
    }
   ],
   "source": [
    "print(\"i'm Sami\")"
   ]
  },
  {
   "cell_type": "code",
   "execution_count": 5,
   "metadata": {},
   "outputs": [
    {
     "name": "stdout",
     "output_type": "stream",
     "text": [
      "My Name Is \t Sami\n"
     ]
    }
   ],
   "source": [
    "print(\"My Name Is \\t Sami\")"
   ]
  },
  {
   "cell_type": "code",
   "execution_count": 6,
   "metadata": {},
   "outputs": [
    {
     "name": "stdout",
     "output_type": "stream",
     "text": [
      "This IS Backspacs\b\n"
     ]
    }
   ],
   "source": [
    "print(\"This IS Backspacs\\b\")"
   ]
  },
  {
   "cell_type": "code",
   "execution_count": 1,
   "metadata": {},
   "outputs": [
    {
     "name": "stdout",
     "output_type": "stream",
     "text": [
      "input your name plzSarfaraz\n",
      "input age23\n",
      "my name is Sarfaraz And My Age Is 23\n"
     ]
    }
   ],
   "source": [
    "name = input(\"input your name plz\")\n",
    "age = input(\"input age\")\n",
    "print(f\"my name is {name} And My Age Is {age}\")"
   ]
  },
  {
   "cell_type": "code",
   "execution_count": 5,
   "metadata": {},
   "outputs": [
    {
     "name": "stdout",
     "output_type": "stream",
     "text": [
      "Do You Have CNIC: yes\n",
      "He Has Valid CNIC\n",
      "Your Name In The VOter List? no\n",
      "You Can Not Caste Vote\n"
     ]
    }
   ],
   "source": [
    "user_cnic = input(\"Do You Have CNIC: \").lower()\n",
    "if user_cnic == \"yes\" :\n",
    "    print(\"He Has Valid CNIC\")\n",
    "    voter_list = input(\"Your Name In The VOter List? \").lower()\n",
    "    if voter_list == \"yes\" :\n",
    "        print(\"You Can Vote !!\")\n",
    "    else:\n",
    "        print(\"You Can Not Caste Vote\")\n",
    "else:\n",
    "    print(\"Sorryy  !!\")"
   ]
  },
  {
   "cell_type": "code",
   "execution_count": 9,
   "metadata": {},
   "outputs": [
    {
     "name": "stdout",
     "output_type": "stream",
     "text": [
      "do you have cnicyes\n",
      "he has  valid cnic\n",
      "your name in the voter listno\n",
      "you can not caste vote\n"
     ]
    }
   ],
   "source": [
    "user_cnic = input(\"do you have cnic\").lower()\n",
    "if user_cnic == \"yes\" :\n",
    "    print(\"he has  valid cnic\")\n",
    "    voter_list = input(\"your name in the voter list\").lower()\n",
    "    if voter_list == \"yes\" :\n",
    "        print(\"you can cast vote\")\n",
    "    else : \n",
    "        print(\"you can not caste vote\")\n",
    "else :\n",
    "    print(\"sorry\")\n",
    "    \n",
    "    "
   ]
  },
  {
   "cell_type": "code",
   "execution_count": 23,
   "metadata": {},
   "outputs": [
    {
     "name": "stdout",
     "output_type": "stream",
     "text": [
      "plz enter your age = 45\n",
      "you can go to cinema\n",
      "have you ticket: no\n",
      "sorry you are not allowed\n"
     ]
    }
   ],
   "source": [
    "age = int(input(\"plz enter your age = \"))\n",
    "if age >= 18 :\n",
    "    print(\"you can go to cinema\")\n",
    "    ticket = input(\"have you ticket: \").lower()\n",
    "    if ticket == \"yes\":\n",
    "        print(\"you are allowed to enter into cinema\")\n",
    "    else:\n",
    "        print(\"sorry you are not allowed\")\n",
    "else:\n",
    "    print(\"you can not go to cinema\")"
   ]
  },
  {
   "cell_type": "code",
   "execution_count": 30,
   "metadata": {},
   "outputs": [
    {
     "name": "stdout",
     "output_type": "stream",
     "text": [
      "Enter 1st Num: 23\n",
      "Enter 2nd Num: 44\n",
      "23 is less then 44\n"
     ]
    }
   ],
   "source": [
    "num1 = int(input(\"Enter 1st Num: \"))\n",
    "num2 = int(input(\"Enter 2nd Num: \"))\n",
    "if num1 == num2 :\n",
    "    print(f\"{num1} is equals to {num2}\")\n",
    "elif num1 > num2 :\n",
    "    print(f\"{num1} is greatr then {num2}\")\n",
    "elif num1 < num2 :\n",
    "    print(f\"{num1} is less then {num2}\")\n",
    "else:\n",
    "    print(\"Errorr\")"
   ]
  },
  {
   "cell_type": "code",
   "execution_count": null,
   "metadata": {},
   "outputs": [],
   "source": [
    "user_cnic = input(\"do you have cnic\").lower()\n",
    "ffff = input(\"do you have cnic\").lower()\n",
    "if user_cnic == \"yes\" and ffff == \"yes\" :\n",
    "    print(\"you are allowed to caste vote\")\n",
    "else:\n",
    "    print(\"no\")\n",
    "    \n"
   ]
  },
  {
   "cell_type": "code",
   "execution_count": null,
   "metadata": {},
   "outputs": [],
   "source": [
    "list"
   ]
  },
  {
   "cell_type": "code",
   "execution_count": 4,
   "metadata": {},
   "outputs": [],
   "source": [
    "students = ['ali', 'imran', 'sami']"
   ]
  },
  {
   "cell_type": "code",
   "execution_count": 5,
   "metadata": {},
   "outputs": [
    {
     "data": {
      "text/plain": [
       "3"
      ]
     },
     "execution_count": 5,
     "metadata": {},
     "output_type": "execute_result"
    }
   ],
   "source": [
    "len(students)"
   ]
  },
  {
   "cell_type": "code",
   "execution_count": 6,
   "metadata": {},
   "outputs": [
    {
     "data": {
      "text/plain": [
       "'imran'"
      ]
     },
     "execution_count": 6,
     "metadata": {},
     "output_type": "execute_result"
    }
   ],
   "source": [
    "students[1]"
   ]
  },
  {
   "cell_type": "code",
   "execution_count": 7,
   "metadata": {},
   "outputs": [
    {
     "name": "stdout",
     "output_type": "stream",
     "text": [
      "['sami', 'sarfaraz', 'Ather']\n"
     ]
    }
   ],
   "source": [
    "list1 = [\"sami\" , \"sarfaraz\" , \"Ather\"]\n",
    "print(list1)"
   ]
  },
  {
   "cell_type": "code",
   "execution_count": 9,
   "metadata": {},
   "outputs": [
    {
     "data": {
      "text/plain": [
       "'Ather'"
      ]
     },
     "execution_count": 9,
     "metadata": {},
     "output_type": "execute_result"
    }
   ],
   "source": [
    "list1[2]"
   ]
  },
  {
   "cell_type": "code",
   "execution_count": 10,
   "metadata": {},
   "outputs": [],
   "source": [
    "list1.append(\"Wajid\")"
   ]
  },
  {
   "cell_type": "code",
   "execution_count": 11,
   "metadata": {},
   "outputs": [
    {
     "name": "stdout",
     "output_type": "stream",
     "text": [
      "['sami', 'sarfaraz', 'Ather', 'Wajid']\n"
     ]
    }
   ],
   "source": [
    "print(list1)"
   ]
  },
  {
   "cell_type": "code",
   "execution_count": 12,
   "metadata": {},
   "outputs": [
    {
     "name": "stdout",
     "output_type": "stream",
     "text": [
      "['sami', 'sarfaraz', 'Ali', 'Ather', 'Wajid']\n"
     ]
    }
   ],
   "source": [
    "list1.insert(2,\"Ali\")\n",
    "print(list1)"
   ]
  },
  {
   "cell_type": "code",
   "execution_count": 13,
   "metadata": {},
   "outputs": [
    {
     "data": {
      "text/plain": [
       "'Wajid'"
      ]
     },
     "execution_count": 13,
     "metadata": {},
     "output_type": "execute_result"
    }
   ],
   "source": [
    "list1.pop()"
   ]
  },
  {
   "cell_type": "code",
   "execution_count": 15,
   "metadata": {},
   "outputs": [
    {
     "name": "stdout",
     "output_type": "stream",
     "text": [
      "['sami', 'sarfaraz']\n"
     ]
    }
   ],
   "source": [
    "del list1[2]\n",
    "print(list1)"
   ]
  },
  {
   "cell_type": "code",
   "execution_count": 16,
   "metadata": {},
   "outputs": [
    {
     "name": "stdout",
     "output_type": "stream",
     "text": [
      "['sarfaraz']\n"
     ]
    }
   ],
   "source": [
    "list1.remove(\"sami\")\n",
    "print(list1)"
   ]
  },
  {
   "cell_type": "code",
   "execution_count": null,
   "metadata": {},
   "outputs": [],
   "source": []
  },
  {
   "cell_type": "code",
   "execution_count": 17,
   "metadata": {},
   "outputs": [],
   "source": [
    "list1.clear()"
   ]
  },
  {
   "cell_type": "code",
   "execution_count": 19,
   "metadata": {},
   "outputs": [
    {
     "name": "stdout",
     "output_type": "stream",
     "text": [
      "[]\n"
     ]
    }
   ],
   "source": [
    "print(list1)"
   ]
  },
  {
   "cell_type": "code",
   "execution_count": 23,
   "metadata": {},
   "outputs": [
    {
     "name": "stdout",
     "output_type": "stream",
     "text": [
      "1\n",
      "['Sami', 'Sarfaraz', 'Ather', 'Bilal']\n"
     ]
    }
   ],
   "source": [
    "mylist = [\"Sami\" , \"Sarfaraz\" , \"Ather\" , \"Bilal\"]\n",
    "print(mylist.count(\"Sami\"))\n",
    "print(mylist)"
   ]
  },
  {
   "cell_type": "code",
   "execution_count": 24,
   "metadata": {},
   "outputs": [],
   "source": [
    "nums = [1,3,5,7,9,2,4,6,8]"
   ]
  },
  {
   "cell_type": "code",
   "execution_count": 29,
   "metadata": {},
   "outputs": [
    {
     "name": "stdout",
     "output_type": "stream",
     "text": [
      "[1, 2, 3, 4, 5, 6, 7, 8, 9]\n"
     ]
    }
   ],
   "source": []
  },
  {
   "cell_type": "code",
   "execution_count": 32,
   "metadata": {},
   "outputs": [
    {
     "name": "stdout",
     "output_type": "stream",
     "text": [
      "[9, 8, 7, 6, 5, 4, 3, 2, 1]\n"
     ]
    }
   ],
   "source": [
    "nums.sort(reverse=True)\n",
    "print(nums)"
   ]
  },
  {
   "cell_type": "code",
   "execution_count": 34,
   "metadata": {},
   "outputs": [
    {
     "name": "stdout",
     "output_type": "stream",
     "text": [
      "[9, 8, 7, 6, 5, 4, 3, 2, 1]\n",
      "[9, 8, 7, 6, 5, 4, 3, 2, 1]\n"
     ]
    }
   ],
   "source": [
    "num2 = nums.copy()\n",
    "print(nums)\n",
    "print(num2)"
   ]
  },
  {
   "cell_type": "code",
   "execution_count": 35,
   "metadata": {},
   "outputs": [
    {
     "name": "stdout",
     "output_type": "stream",
     "text": [
      "9\n"
     ]
    }
   ],
   "source": [
    "print(len(num2))"
   ]
  },
  {
   "cell_type": "code",
   "execution_count": 39,
   "metadata": {},
   "outputs": [],
   "source": [
    "listf = [\"Sami ul Haq\" , 23 , [\"Wah Wah\" , \"Man Nahen\" , \"kela\"] ]"
   ]
  },
  {
   "cell_type": "code",
   "execution_count": 45,
   "metadata": {},
   "outputs": [
    {
     "data": {
      "text/plain": [
       "'Wah Wah'"
      ]
     },
     "execution_count": 45,
     "metadata": {},
     "output_type": "execute_result"
    }
   ],
   "source": [
    "listf[2][0]"
   ]
  },
  {
   "cell_type": "code",
   "execution_count": 49,
   "metadata": {},
   "outputs": [
    {
     "name": "stdout",
     "output_type": "stream",
     "text": [
      "[1, 2, 3, 4, 5, 6, 7, 8, 9, 10]\n"
     ]
    }
   ],
   "source": [
    "lists = list(range(1,11))\n",
    "print(lists)"
   ]
  },
  {
   "cell_type": "code",
   "execution_count": 71,
   "metadata": {},
   "outputs": [],
   "source": [
    "lis1 = [\"Sami\", \"Sarfaraz\" , \"Ather\" , [\"Apple\" , \"Mango\", \"Banana\"]]"
   ]
  },
  {
   "cell_type": "code",
   "execution_count": 72,
   "metadata": {},
   "outputs": [],
   "source": [
    "lis1[3].remove(\"Apple\")"
   ]
  },
  {
   "cell_type": "code",
   "execution_count": 73,
   "metadata": {},
   "outputs": [
    {
     "name": "stdout",
     "output_type": "stream",
     "text": [
      "['Sami', 'Sarfaraz', 'Ather', ['Mango', 'Banana']]\n"
     ]
    }
   ],
   "source": [
    "print(lis1)"
   ]
  },
  {
   "cell_type": "code",
   "execution_count": 74,
   "metadata": {},
   "outputs": [],
   "source": [
    "lis1[3].insert(1,\"Apple\")"
   ]
  },
  {
   "cell_type": "code",
   "execution_count": 75,
   "metadata": {},
   "outputs": [
    {
     "name": "stdout",
     "output_type": "stream",
     "text": [
      "['Sami', 'Sarfaraz', 'Ather', ['Mango', 'Apple', 'Banana']]\n"
     ]
    }
   ],
   "source": [
    "print(lis1)"
   ]
  },
  {
   "cell_type": "code",
   "execution_count": 79,
   "metadata": {},
   "outputs": [
    {
     "data": {
      "text/plain": [
       "['Bilal', 'Ather', 'sarfaraz', 'Sami']"
      ]
     },
     "execution_count": 79,
     "metadata": {},
     "output_type": "execute_result"
    }
   ],
   "source": [
    "list1 = [\"Sami\" , \"sarfaraz\" , \"Ather\" , \"Bilal\"]\n",
    "list1[::-1]\n"
   ]
  },
  {
   "cell_type": "code",
   "execution_count": 1,
   "metadata": {},
   "outputs": [],
   "source": [
    "mylist1 = [\"Sami\" , \"sarfaraz\" , \"Ather\" , \"Bilal\"]\n",
    "\n",
    "\n"
   ]
  },
  {
   "cell_type": "markdown",
   "metadata": {},
   "source": [
    "# Dictionary"
   ]
  },
  {
   "cell_type": "code",
   "execution_count": 38,
   "metadata": {},
   "outputs": [],
   "source": [
    "mydict = {\"Name\" : \"Sami ul Haq\",\n",
    "          \"Class\" : \"1st Year\",\n",
    "           \"Degree\" : \"B.E\"}"
   ]
  },
  {
   "cell_type": "code",
   "execution_count": 6,
   "metadata": {},
   "outputs": [
    {
     "data": {
      "text/plain": [
       "'Sami ul Haq'"
      ]
     },
     "execution_count": 6,
     "metadata": {},
     "output_type": "execute_result"
    }
   ],
   "source": [
    "mydict[\"Name\"]"
   ]
  },
  {
   "cell_type": "code",
   "execution_count": 7,
   "metadata": {},
   "outputs": [
    {
     "name": "stdout",
     "output_type": "stream",
     "text": [
      "The Key Is Name And The Value Is Sami ul Haq\n",
      "The Key Is Class And The Value Is 1st Year\n",
      "The Key Is Degree And The Value Is B.E\n"
     ]
    }
   ],
   "source": [
    "for k,v in mydict.items():\n",
    "    print(f\"The Key Is {k} And The Value Is {v}\")"
   ]
  },
  {
   "cell_type": "code",
   "execution_count": 8,
   "metadata": {},
   "outputs": [
    {
     "name": "stdout",
     "output_type": "stream",
     "text": [
      "My keys Are Name\n",
      "My keys Are Class\n",
      "My keys Are Degree\n"
     ]
    }
   ],
   "source": [
    "for k in mydict.keys():\n",
    "    print(f\"My keys Are {k}\")"
   ]
  },
  {
   "cell_type": "code",
   "execution_count": 12,
   "metadata": {},
   "outputs": [
    {
     "name": "stdout",
     "output_type": "stream",
     "text": [
      "My Value Are Sami ul Haq\n",
      "My Value Are 1st Year\n",
      "My Value Are B.E\n"
     ]
    }
   ],
   "source": [
    "for k in mydict.values():\n",
    "    print(f\"My Value Are {k}\")"
   ]
  },
  {
   "cell_type": "code",
   "execution_count": 11,
   "metadata": {},
   "outputs": [
    {
     "name": "stdout",
     "output_type": "stream",
     "text": [
      "Sami ul Haq\n",
      "1st Year\n",
      "B.E\n"
     ]
    }
   ],
   "source": [
    "for k in mydict.keys():\n",
    "    print(mydict[k])"
   ]
  },
  {
   "cell_type": "code",
   "execution_count": 26,
   "metadata": {},
   "outputs": [],
   "source": [
    "a = [1,2,3,4,5]\n",
    "b = [6,7,8,9,10]\n",
    "c = [\"apple\" , \"banana\" , a ,b, mydict]"
   ]
  },
  {
   "cell_type": "code",
   "execution_count": 27,
   "metadata": {},
   "outputs": [
    {
     "name": "stdout",
     "output_type": "stream",
     "text": [
      "['apple', 'banana', [1, 2, 3, 4, 5], [6, 7, 8, 9, 10], {'Name': 'Sami ul Haq', 'Class': '1st Year', 'Degree': 'B.E'}]\n"
     ]
    }
   ],
   "source": [
    "print(c)"
   ]
  },
  {
   "cell_type": "code",
   "execution_count": 28,
   "metadata": {},
   "outputs": [
    {
     "name": "stdout",
     "output_type": "stream",
     "text": [
      "[6, 7, 8, 9, 10]\n"
     ]
    }
   ],
   "source": [
    "print(c[3])"
   ]
  },
  {
   "cell_type": "code",
   "execution_count": 29,
   "metadata": {},
   "outputs": [
    {
     "name": "stdout",
     "output_type": "stream",
     "text": [
      "4\n"
     ]
    }
   ],
   "source": [
    "print(c[2][3])"
   ]
  },
  {
   "cell_type": "code",
   "execution_count": 21,
   "metadata": {},
   "outputs": [
    {
     "name": "stdout",
     "output_type": "stream",
     "text": [
      "['apple', 'banana', [1, 2, 3, 4, 5], [6, 7, 8, 9, 10]]\n"
     ]
    }
   ],
   "source": [
    "print(c)"
   ]
  },
  {
   "cell_type": "code",
   "execution_count": 33,
   "metadata": {},
   "outputs": [],
   "source": [
    "aa = [1,2,3,4,5]\n",
    "bb = [6,7,8,9,10]\n",
    "sa = [\"apple\" , \"banana\" , {\"name\" : \"Sami ul Haq\", \"age\" : 23}]"
   ]
  },
  {
   "cell_type": "code",
   "execution_count": 35,
   "metadata": {},
   "outputs": [
    {
     "name": "stdout",
     "output_type": "stream",
     "text": [
      "Sami ul Haq\n"
     ]
    }
   ],
   "source": [
    "print(sa[2][\"name\"])"
   ]
  },
  {
   "cell_type": "code",
   "execution_count": 36,
   "metadata": {},
   "outputs": [],
   "source": [
    "mydic= {\"name\":[\"a\",\"b\",\"c\"]}\n",
    "mydic[\"name\"].remove(\"b\")"
   ]
  },
  {
   "cell_type": "code",
   "execution_count": 37,
   "metadata": {},
   "outputs": [
    {
     "name": "stdout",
     "output_type": "stream",
     "text": [
      "{'name': ['a', 'c']}\n"
     ]
    }
   ],
   "source": [
    "print(mydic)"
   ]
  },
  {
   "cell_type": "code",
   "execution_count": 39,
   "metadata": {},
   "outputs": [],
   "source": []
  },
  {
   "cell_type": "code",
   "execution_count": 40,
   "metadata": {},
   "outputs": [
    {
     "data": {
      "text/plain": [
       "['apple',\n",
       " 'banana',\n",
       " [1, 2, 3, 4, 5],\n",
       " [6, 7, 8, 9, 10],\n",
       " {'Name': 'Sami ul Haq', 'Class': '1st Year', 'Degree': 'B.E'}]"
      ]
     },
     "execution_count": 40,
     "metadata": {},
     "output_type": "execute_result"
    }
   ],
   "source": []
  },
  {
   "cell_type": "markdown",
   "metadata": {},
   "source": [
    "# Functions"
   ]
  },
  {
   "cell_type": "code",
   "execution_count": 50,
   "metadata": {},
   "outputs": [],
   "source": [
    "def add(a,b):\n",
    "    return a+b"
   ]
  },
  {
   "cell_type": "code",
   "execution_count": 54,
   "metadata": {},
   "outputs": [
    {
     "name": "stdout",
     "output_type": "stream",
     "text": [
      "Enter 1st Number: 12\n",
      "Enter 2nd Number: 12\n",
      "24\n"
     ]
    }
   ],
   "source": [
    "a = int(input(\"Enter 1st Number: \"))\n",
    "b = int(input(\"Enter 2nd Number: \"))\n",
    "print(add(a,b))"
   ]
  },
  {
   "cell_type": "code",
   "execution_count": 55,
   "metadata": {},
   "outputs": [
    {
     "data": {
      "text/plain": [
       "24"
      ]
     },
     "execution_count": 55,
     "metadata": {},
     "output_type": "execute_result"
    }
   ],
   "source": [
    "add(a,b)"
   ]
  },
  {
   "cell_type": "code",
   "execution_count": 59,
   "metadata": {},
   "outputs": [
    {
     "name": "stdout",
     "output_type": "stream",
     "text": [
      "The Name Is Sana khan \n"
     ]
    }
   ],
   "source": [
    "def ful_name(wife,husband):\n",
    "    print(f\"The Name Is {wife} {husband} \")\n",
    "ful_name(\"Sana\",\"khan\")\n",
    "    "
   ]
  },
  {
   "cell_type": "code",
   "execution_count": 62,
   "metadata": {},
   "outputs": [
    {
     "data": {
      "text/plain": [
       "794830"
      ]
     },
     "execution_count": 62,
     "metadata": {},
     "output_type": "execute_result"
    }
   ],
   "source": [
    "add(10,794820)"
   ]
  },
  {
   "cell_type": "code",
   "execution_count": 71,
   "metadata": {},
   "outputs": [
    {
     "name": "stdout",
     "output_type": "stream",
     "text": [
      "Enter 1st Number: 22\n",
      "Enter 2nd Number: 22\n",
      "Enter Operator: *\n",
      "484\n"
     ]
    }
   ],
   "source": [
    "def operation(a,b,operator):\n",
    "    if operator == \"+\":\n",
    "        return a + b\n",
    "    elif operator == \"-\":\n",
    "        return a - b\n",
    "    elif operator == \"*\":\n",
    "        return a * b\n",
    "    else:\n",
    "        return a / b\n",
    "\n",
    "a = int(input(\"Enter 1st Number: \"))\n",
    "b = int(input(\"Enter 2nd Number: \"))\n",
    "operator = input(\"Enter Operator: \")\n",
    "\n",
    "print(operation(a,b,operator))"
   ]
  },
  {
   "cell_type": "code",
   "execution_count": 65,
   "metadata": {},
   "outputs": [
    {
     "data": {
      "text/plain": [
       "4"
      ]
     },
     "execution_count": 65,
     "metadata": {},
     "output_type": "execute_result"
    }
   ],
   "source": [
    "a = int(input(\"Enter 1st Number: \"))"
   ]
  },
  {
   "cell_type": "code",
   "execution_count": 73,
   "metadata": {},
   "outputs": [
    {
     "name": "stdout",
     "output_type": "stream",
     "text": [
      "Enter Any Character: d\n",
      "Letter d is not a vowel\n"
     ]
    }
   ],
   "source": [
    "vowel = ['a','e','i','o','u']\n",
    "string = input(\"Enter Any Character: \").lower()\n",
    "if string in vowel:\n",
    "    print(f\"Letter {string} is vowel\")\n",
    "else:\n",
    "    print(f\"Letter {string} is not a vowel\")"
   ]
  },
  {
   "cell_type": "code",
   "execution_count": 1,
   "metadata": {},
   "outputs": [
    {
     "name": "stdout",
     "output_type": "stream",
     "text": [
      "30\n"
     ]
    }
   ],
   "source": [
    "def cal(a,b):\n",
    "    return a+b\n",
    "ai = cal(10,20)\n",
    "print(ai)"
   ]
  },
  {
   "cell_type": "code",
   "execution_count": 5,
   "metadata": {},
   "outputs": [
    {
     "name": "stdout",
     "output_type": "stream",
     "text": [
      "12\n"
     ]
    }
   ],
   "source": [
    "def cal(a,b):\n",
    "    c=a+b\n",
    "    return c\n",
    "a=cal(3,9)\n",
    "print(a)"
   ]
  },
  {
   "cell_type": "code",
   "execution_count": 21,
   "metadata": {},
   "outputs": [
    {
     "name": "stdout",
     "output_type": "stream",
     "text": [
      "Hello, Sami\n",
      "Hello, Hamza\n"
     ]
    }
   ],
   "source": [
    "def name(friends):\n",
    "    for i in friends:\n",
    "        a = \"Hello, \" + i\n",
    "        print(a)\n",
    "user = [\"Sami\" , \"Hamza\"]\n",
    "\n",
    "name(user)"
   ]
  },
  {
   "cell_type": "code",
   "execution_count": 27,
   "metadata": {},
   "outputs": [
    {
     "name": "stdout",
     "output_type": "stream",
     "text": [
      "My Name Is Sami ul Haq And My Father Name Is Attiullah.\n",
      "None\n"
     ]
    }
   ],
   "source": [
    "def info(my_name,f_name):\n",
    "    print(f\"My Name Is {my_name} And My Father Name Is {f_name}.\")\n",
    "print(info(\"Sami ul Haq\",\"Attiullah\"))"
   ]
  },
  {
   "cell_type": "code",
   "execution_count": 28,
   "metadata": {},
   "outputs": [
    {
     "name": "stdout",
     "output_type": "stream",
     "text": [
      "My Name Is sami ul Haq And My Age Is 23 And I Am Male\n"
     ]
    }
   ],
   "source": [
    "def user_info(name,age,gender):\n",
    "    print(f\"My Name Is {name} And My Age Is {age} And I Am {gender}\")\n",
    "user_info(\"sami ul Haq\", 23 , \"Male\")"
   ]
  },
  {
   "cell_type": "code",
   "execution_count": 5,
   "metadata": {},
   "outputs": [
    {
     "name": "stdout",
     "output_type": "stream",
     "text": [
      "Enter Name: Sami\n",
      "Enter Age: 26\n",
      "Enter Gender: Male\n",
      "My Name Is Sami And My Age Is 26 And I Am Male\n",
      "None\n"
     ]
    }
   ],
   "source": [
    "def user_info(name,age,gender):\n",
    "    print(f\"My Name Is {name} And My Age Is {age} And I Am {gender}\")\n",
    "a = input(\"Enter Name: \")\n",
    "b = int(input(\"Enter Age: \"))\n",
    "c = input(\"Enter Gender: \") \n",
    "info = user_info(a,b,c)\n",
    "print(info)"
   ]
  },
  {
   "cell_type": "code",
   "execution_count": 2,
   "metadata": {},
   "outputs": [
    {
     "name": "stdout",
     "output_type": "stream",
     "text": [
      "I Did My Matriculation From Al Shams\n",
      "I Did My Matriculation From D.J\n",
      "I Did My Matriculation From IIEE\n"
     ]
    }
   ],
   "source": [
    "def education(school,college,uni):\n",
    "    print(f\"I Did My Matriculation From {school}\")\n",
    "    print(f\"I Did My Matriculation From {college}\")\n",
    "    print(f\"I Did My Matriculation From {uni}\")\n",
    "education(\"Al Shams\",\"D.J\",\"IIEE\")\n"
   ]
  },
  {
   "cell_type": "markdown",
   "metadata": {},
   "source": [
    "# While LOOP"
   ]
  },
  {
   "cell_type": "code",
   "execution_count": 6,
   "metadata": {},
   "outputs": [
    {
     "name": "stdout",
     "output_type": "stream",
     "text": [
      "1  Chota Ha 10 Se\n",
      "2  Chota Ha 10 Se\n",
      "3  Chota Ha 10 Se\n",
      "4  Chota Ha 10 Se\n",
      "5  Chota Ha 10 Se\n",
      "6  Chota Ha 10 Se\n",
      "7  Chota Ha 10 Se\n",
      "8  Chota Ha 10 Se\n",
      "9  Chota Ha 10 Se\n"
     ]
    }
   ],
   "source": [
    "a = 1\n",
    "while a < 10:\n",
    "    print(a,\" Chota Ha 10 Se\")\n",
    "    a += 1"
   ]
  },
  {
   "cell_type": "code",
   "execution_count": null,
   "metadata": {},
   "outputs": [],
   "source": [
    "for i in range(10):\n",
    "    name = input(\"Enter Your Name: \")\n",
    "    if name == \"Close\"\n",
    "    break\n",
    "    print(f\"Welcome Sir {name}\")"
   ]
  },
  {
   "cell_type": "code",
   "execution_count": null,
   "metadata": {},
   "outputs": [],
   "source": []
  }
 ],
 "metadata": {
  "kernelspec": {
   "display_name": "Python 3",
   "language": "python",
   "name": "python3"
  },
  "language_info": {
   "codemirror_mode": {
    "name": "ipython",
    "version": 3
   },
   "file_extension": ".py",
   "mimetype": "text/x-python",
   "name": "python",
   "nbconvert_exporter": "python",
   "pygments_lexer": "ipython3",
   "version": "3.7.3"
  }
 },
 "nbformat": 4,
 "nbformat_minor": 2
}
