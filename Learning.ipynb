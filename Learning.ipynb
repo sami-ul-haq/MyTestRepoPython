{
 "cells": [
  {
   "cell_type": "code",
   "execution_count": 1,
   "metadata": {},
   "outputs": [
    {
     "name": "stdout",
     "output_type": "stream",
     "text": [
      "Sami ul Haq\n"
     ]
    }
   ],
   "source": [
    "print(\"Sami ul Haq\")"
   ]
  },
  {
   "cell_type": "markdown",
   "metadata": {},
   "source": [
    "# Testing"
   ]
  },
  {
   "cell_type": "code",
   "execution_count": 6,
   "metadata": {},
   "outputs": [
    {
     "name": "stdout",
     "output_type": "stream",
     "text": [
      "a chota hai\n",
      "\n",
      "\n",
      "\n",
      "b id grester then a\n"
     ]
    }
   ],
   "source": [
    "a=10\n",
    "b=20\n",
    "if a<b:\n",
    "    print(\"a chota hai\")\n",
    "    print()\n",
    "    print()\n",
    "    print()\n",
    "if b>a:\n",
    "    print(\"b id grester then a\")"
   ]
  },
  {
   "cell_type": "code",
   "execution_count": 15,
   "metadata": {},
   "outputs": [
    {
     "name": "stdout",
     "output_type": "stream",
     "text": [
      " enter a number 23\n",
      " your number is odd \n"
     ]
    }
   ],
   "source": [
    "num = int( input(\" enter a number \"))\n",
    "if num%2 ==0:\n",
    "    print(\" your number is even \")\n",
    "if num%2 != 0:\n",
    "    print(\" your number is odd \")\n",
    "    "
   ]
  },
  {
   "cell_type": "code",
   "execution_count": 1,
   "metadata": {},
   "outputs": [
    {
     "name": "stdout",
     "output_type": "stream",
     "text": [
      "My Name Is Sami\n"
     ]
    }
   ],
   "source": [
    "print(\"My Name Is Sami\")"
   ]
  },
  {
   "cell_type": "code",
   "execution_count": 2,
   "metadata": {},
   "outputs": [
    {
     "name": "stdout",
     "output_type": "stream",
     "text": [
      "Print A \n",
      " Print B\n"
     ]
    }
   ],
   "source": [
    "print(\"Print A \\n Print B\")"
   ]
  },
  {
   "cell_type": "code",
   "execution_count": 3,
   "metadata": {},
   "outputs": [
    {
     "name": "stdout",
     "output_type": "stream",
     "text": [
      "My Name IS \"Sami ul Haq\"\n"
     ]
    }
   ],
   "source": [
    "print(\"My Name IS \\\"Sami ul Haq\\\"\")"
   ]
  },
  {
   "cell_type": "code",
   "execution_count": 4,
   "metadata": {},
   "outputs": [
    {
     "name": "stdout",
     "output_type": "stream",
     "text": [
      "i'm Sami\n"
     ]
    }
   ],
   "source": [
    "print(\"i'm Sami\")"
   ]
  },
  {
   "cell_type": "code",
   "execution_count": 5,
   "metadata": {},
   "outputs": [
    {
     "name": "stdout",
     "output_type": "stream",
     "text": [
      "My Name Is \t Sami\n"
     ]
    }
   ],
   "source": [
    "print(\"My Name Is \\t Sami\")"
   ]
  },
  {
   "cell_type": "code",
   "execution_count": 6,
   "metadata": {},
   "outputs": [
    {
     "name": "stdout",
     "output_type": "stream",
     "text": [
      "This IS Backspacs\b\n"
     ]
    }
   ],
   "source": [
    "print(\"This IS Backspacs\\b\")"
   ]
  },
  {
   "cell_type": "code",
   "execution_count": 1,
   "metadata": {},
   "outputs": [
    {
     "name": "stdout",
     "output_type": "stream",
     "text": [
      "input your name plzSarfaraz\n",
      "input age23\n",
      "my name is Sarfaraz And My Age Is 23\n"
     ]
    }
   ],
   "source": [
    "name = input(\"input your name plz\")\n",
    "age = input(\"input age\")\n",
    "print(f\"my name is {name} And My Age Is {age}\")"
   ]
  },
  {
   "cell_type": "code",
   "execution_count": null,
   "metadata": {},
   "outputs": [],
   "source": []
  }
 ],
 "metadata": {
  "kernelspec": {
   "display_name": "Python 3",
   "language": "python",
   "name": "python3"
  },
  "language_info": {
   "codemirror_mode": {
    "name": "ipython",
    "version": 3
   },
   "file_extension": ".py",
   "mimetype": "text/x-python",
   "name": "python",
   "nbconvert_exporter": "python",
   "pygments_lexer": "ipython3",
   "version": "3.7.3"
  }
 },
 "nbformat": 4,
 "nbformat_minor": 2
}
